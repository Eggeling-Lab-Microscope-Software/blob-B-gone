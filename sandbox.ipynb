{
 "cells": [
  {
   "cell_type": "code",
   "execution_count": 1,
   "metadata": {},
   "outputs": [],
   "source": [
    "from blobBgone import blobBgone"
   ]
  },
  {
   "cell_type": "code",
   "execution_count": 2,
   "metadata": {},
   "outputs": [
    {
     "name": "stdout",
     "output_type": "stream",
     "text": [
      "Found 500 files in the 'C:/Users/belav/Documents/GitHub/blob-B-gone/Example_Data/Simulation/2D_Mix_dynamicSTD' directory.\n",
      "500 tasks have been created.\n"
     ]
    }
   ],
   "source": [
    "test = blobBgone.from_npy()"
   ]
  },
  {
   "cell_type": "code",
   "execution_count": 3,
   "metadata": {},
   "outputs": [
    {
     "name": "stdout",
     "output_type": "stream",
     "text": [
      "\n",
      "Extracting features...\n",
      "\n",
      "Clustering...\n",
      "\n",
      "Blob-score is being calculated...\n",
      "\n",
      "Cluster 1 Blob-score: 3623739.06\n",
      "Cluster 2 Blob-score: 132966555.17\n",
      "Blob-score ratio: 1 : 36.69\n",
      "Silhouette Coefficient: 0.712\n",
      "\n",
      "Cluster 2 has been estimated to be the blob cluster.\n",
      "Blob-B-Gone has finished running.\n",
      "Get the results with the 'blobs' and 'free' attributes or via the 'blob_IDs' and 'free_IDs' attributes.\n"
     ]
    }
   ],
   "source": [
    "test.run()"
   ]
  },
  {
   "cell_type": "code",
   "execution_count": 4,
   "metadata": {},
   "outputs": [
    {
     "ename": "TypeError",
     "evalue": "unsupported operand type(s) for *: 'method' and 'int'",
     "output_type": "error",
     "traceback": [
      "\u001b[1;31m---------------------------------------------------------------------------\u001b[0m",
      "\u001b[1;31mTypeError\u001b[0m                                 Traceback (most recent call last)",
      "\u001b[1;32mc:\\Users\\belav\\Documents\\GitHub\\blob-B-gone\\sandbox.ipynb Cell 4\u001b[0m line \u001b[0;36m<module>\u001b[1;34m\u001b[0m\n\u001b[1;32m----> <a href='vscode-notebook-cell:/c%3A/Users/belav/Documents/GitHub/blob-B-gone/sandbox.ipynb#W4sZmlsZQ%3D%3D?line=0'>1</a>\u001b[0m test\u001b[39m.\u001b[39;49mplot_PCA()\n",
      "File \u001b[1;32mc:\\Users\\belav\\Documents\\GitHub\\blob-B-gone\\blobBgone\\__init__.py:255\u001b[0m, in \u001b[0;36mblobBgone.plot_PCA\u001b[1;34m(self)\u001b[0m\n\u001b[0;32m    254\u001b[0m \u001b[39mdef\u001b[39;00m \u001b[39mplot_PCA\u001b[39m(\u001b[39mself\u001b[39m):\n\u001b[1;32m--> 255\u001b[0m     \u001b[39mreturn\u001b[39;00m \u001b[39meval\u001b[39m\u001b[39m.\u001b[39mplot_PCA(features \u001b[39m=\u001b[39m \u001b[39mself\u001b[39;49m\u001b[39m.\u001b[39;49m__apply_custom_weights(\u001b[39mself\u001b[39;49m\u001b[39m.\u001b[39;49m__extract_features), \n\u001b[0;32m    256\u001b[0m                          blob_Ids \u001b[39m=\u001b[39m \u001b[39mself\u001b[39m\u001b[39m.\u001b[39m__blob_IDs, \n\u001b[0;32m    257\u001b[0m                          feature_keywords \u001b[39m=\u001b[39m \u001b[39mlist\u001b[39m(\u001b[39mself\u001b[39m\u001b[39m.\u001b[39m__task_list[\u001b[39m0\u001b[39m]\u001b[39m.\u001b[39mfeatures\u001b[39m.\u001b[39m\u001b[39m__dict__\u001b[39m\u001b[39m.\u001b[39mkeys()), \n\u001b[0;32m    258\u001b[0m                          include_eigenvectors\u001b[39m=\u001b[39m\u001b[39mFalse\u001b[39;00m)\n",
      "File \u001b[1;32mc:\\Users\\belav\\Documents\\GitHub\\blob-B-gone\\blobBgone\\__init__.py:287\u001b[0m, in \u001b[0;36mblobBgone.__apply_custom_weights\u001b[1;34m(self, features)\u001b[0m\n\u001b[0;32m    285\u001b[0m \u001b[39mdef\u001b[39;00m \u001b[39m__apply_custom_weights\u001b[39m(\u001b[39mself\u001b[39m, features:np\u001b[39m.\u001b[39mndarray):\n\u001b[0;32m    286\u001b[0m     weights \u001b[39m=\u001b[39m np\u001b[39m.\u001b[39marray([\u001b[39mself\u001b[39m\u001b[39m.\u001b[39m__custom_weights[feature] \u001b[39mfor\u001b[39;00m feature \u001b[39min\u001b[39;00m \u001b[39mself\u001b[39m\u001b[39m.\u001b[39mtask_list[\u001b[39m0\u001b[39m]\u001b[39m.\u001b[39mfeatures\u001b[39m.\u001b[39m\u001b[39m__dict__\u001b[39m\u001b[39m.\u001b[39mkeys()])\n\u001b[1;32m--> 287\u001b[0m     \u001b[39mreturn\u001b[39;00m features\u001b[39m*\u001b[39;49mweights\n",
      "\u001b[1;31mTypeError\u001b[0m: unsupported operand type(s) for *: 'method' and 'int'"
     ]
    }
   ],
   "source": [
    "test.plot_PCA()"
   ]
  },
  {
   "cell_type": "code",
   "execution_count": null,
   "metadata": {},
   "outputs": [],
   "source": []
  }
 ],
 "metadata": {
  "kernelspec": {
   "display_name": "Python 3",
   "language": "python",
   "name": "python3"
  },
  "language_info": {
   "codemirror_mode": {
    "name": "ipython",
    "version": 3
   },
   "file_extension": ".py",
   "mimetype": "text/x-python",
   "name": "python",
   "nbconvert_exporter": "python",
   "pygments_lexer": "ipython3",
   "version": "3.9.9"
  }
 },
 "nbformat": 4,
 "nbformat_minor": 2
}
